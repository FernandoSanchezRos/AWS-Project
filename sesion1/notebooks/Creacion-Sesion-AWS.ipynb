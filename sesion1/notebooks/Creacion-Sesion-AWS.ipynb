{
 "cells": [
  {
   "cell_type": "markdown",
   "metadata": {},
   "source": [
    "# Interactuar con AWS usando Python\n",
    "\n",
    "## boto3\n",
    "\n",
    "### Definición\n",
    "\n",
    "`boto3` es la Biblioteca de Amazon Web Services (AWS) para Python, que permite a los desarrolladores interactuar con los servicios de AWS mediante código Python. Proporciona una API sencilla y coherente para realizar acciones como la creación, administración y configuración de servicios y recursos en AWS.\n",
    "\n",
    "### Características\n",
    "\n",
    "1. **Clientes y Recursos**:\n",
    "    - Clientes: Proporcionan acceso a las operaciones de bajo nivel disponibles en AWS. Permiten hacer llamadas directas a la API de AWS.\n",
    "    - Recursos: Proporcionan una abstracción de alto nivel sobre los clientes, facilitando la interacción con los servicios de AWS mediante una interfaz orientada a objetos.\n",
    "\n",
    "2. **Gestión de Credenciales**:\n",
    "   - boto3 puede manejar credenciales automáticamente si se configuran correctamente en tu entorno mediante herramientas como `aws configure` o mediante el uso de roles de IAM en instancias de EC2.\n",
    "\n",
    "3. **Sesiones**:\n",
    "   - Una sesión es un contenedor que mantiene la configuración y las credenciales necesarias para interactuar con los servicios de AWS.\n",
    "\n",
    "4. **Operaciones Asíncronas**:\n",
    "   - Soporte para operaciones asíncronas que permiten la ejecución de tareas en segundo plano.\n",
    "\n",
    "5. **Facilidad de Uso**:\n",
    "   - `boto3` proporciona una interfaz intuitiva y fácil de usar para interactuar con los servicios de AWS, lo que facilita a los desarrolladores la integración de AWS en sus aplicaciones.\n",
    "\n",
    "### Servicios Compatibles \n",
    "\n",
    "`boto3` es compatible con una amplia gama de servicios de AWS, incluidos pero no limitados a:\n",
    "\n",
    "- Amazon EC2 (Elastic Compute Cloud)\n",
    "- Amazon S3 (Simple Storage Service)\n",
    "- Amazon RDS (Relational Database Service)\n",
    "- AWS Lambda\n",
    "- DynamoDB\n",
    "- Amazon SNS (Simple Notification Service)\n",
    "- Amazon SQS (Simple Queue Service)\n",
    "\n",
    "### Ventajas\n",
    "\n",
    "- **Automatización**: Permite la automatización de tareas comunes en AWS.\n",
    "- **Escalabilidad**: Facilita la creación y gestión de recursos de AWS a gran escala.\n",
    "- **Integración**: Se integra fácilmente con aplicaciones basadas en Python."
   ]
  },
  {
   "cell_type": "markdown",
   "metadata": {},
   "source": [
    "## Sesiones con boto3 y Python\n",
    "\n",
    "### ¿Qué es una Sesión?\n",
    "\n",
    "En el contexto de AWS y la biblioteca `boto3`, una sesión es una instancia de la clase `boto3.Session` que mantiene la configuración y las credenciales necesarias para interactuar con los servicios de AWS. Una sesión es un contenedor que guarda información como tus credenciales de acceso (Access Key ID y Secret Access Key), la región predeterminada, y otros parámetros de configuración que son necesarios para hacer llamadas a los servicios de AWS.\n",
    "\n",
    "### Características de una Sesión con boto3\n",
    "\n",
    "1. **Gestión de Credenciales**:\n",
    "   - La sesión puede ser configurada con credenciales específicas o puede utilizar las credenciales configuradas globalmente en tu entorno (por ejemplo, mediante el comando aws configure).\n",
    "   - Esto permite reutilizar las credenciales de una manera segura y eficiente.\n",
    "\n",
    "2. **Configuración de la Regió**n:\n",
    "   - Puedes especificar la región de AWS en la que deseas operar.\n",
    "   - La región predeterminada se puede configurar en la sesión para asegurarte de que todas las llamadas a los servicios de AWS se hagan en la región correcta.\n",
    "\n",
    "3. **Reutilización**:\n",
    "   - Las sesiones permiten la reutilización de credenciales y configuración en múltiples servicios y clientes dentro de tu aplicación.\n",
    "\n",
    "### Beneficios de Usar Sesiones\n",
    "\n",
    "- **Seguridad**: Almacenar credenciales fuera del código fuente ayuda a mantener las credenciales seguras.\n",
    "- **Flexibilidad**: Puedes cambiar la configuración de la región o las credenciales sin necesidad de modificar el código de tus clientes y recursos.\n",
    "- **Reutilización**: Puedes reutilizar la misma sesión para múltiples servicios, lo que simplifica la gestión de credenciales y configuración en tu aplicación."
   ]
  },
  {
   "cell_type": "markdown",
   "metadata": {},
   "source": [
    "## Creación de Sesión en Python\n",
    "\n",
    "En esta práctica, se aprenderá a crear y verificar una sesión de AWS usando `boto3`. Los pasos a seguir serán:\n",
    "\n",
    "1. Crear un usuario IAM con la politica de permisos necesaria (En este caso será de administrador) y obtener sus claves.\n",
    "2. Configurar una sesión de boto3 usando las claves de acceso del usuario IAM.\n",
    "3. Verificar que la sesión está activa.\n",
    "\n",
    "<br>\n",
    "<br>\n",
    "<br>\n",
    "<br>\n",
    "<br>\n",
    "<br>\n",
    "<br>\n",
    "<br>\n",
    "<br>\n",
    "<br>"
   ]
  },
  {
   "cell_type": "code",
   "execution_count": 2,
   "metadata": {},
   "outputs": [
    {
     "name": "stdout",
     "output_type": "stream",
     "text": [
      "La sesión está activa y funcionando correctamente.\n",
      "Sesión activa para la cuenta: 058264393125, usuario: arn:aws:iam::058264393125:root\n"
     ]
    }
   ],
   "source": [
    "import boto3\n",
    "import os\n",
    "from botocore.exceptions import NoCredentialsError, PartialCredentialsError, \\\n",
    "    EndpointConnectionError\n",
    "\n",
    "session = boto3.Session(\n",
    "    aws_access_key_id = os.getenv('AWS_ACCESS_KEY_ID'),\n",
    "    aws_secret_access_key = os.getenv('AWS_SECRET_ACCESS_KEY'),\n",
    "    region_name = 'us-east-1'  # Puedes cambiar la región según tu preferencia\n",
    ")\n",
    "\n",
    "# Crear un cliente de EC2\n",
    "ec2_client = session.client('ec2')\n",
    "\n",
    "try:\n",
    "    # Intentar hacer una llamada para describir las instancias EC2\n",
    "    response = ec2_client.describe_instances()\n",
    "    print(\"La sesión está activa y funcionando correctamente.\")\n",
    "    for reservation in response['Reservations']:\n",
    "        for instance in reservation['Instances']:\n",
    "            print(f'Instance ID: {instance[\"InstanceId\"]}, State: {instance[\"State\"][\"Name\"]}')\n",
    "except NoCredentialsError:\n",
    "    print(\"No se encontraron credenciales. Asegúrate de que las credenciales \\\n",
    "          están configuradas correctamente.\")\n",
    "except PartialCredentialsError:\n",
    "    print(\"Las credenciales están incompletas. Por favor, verifica tu AWS \\\n",
    "          Access Key ID y Secret Access Key.\")\n",
    "except EndpointConnectionError:\n",
    "    print(\"No se pudo conectar al punto final de AWS. Verifica tu conexión a \\\n",
    "          Internet y la región configurada.\")\n",
    "except Exception as e:\n",
    "    print(f\"Ocurrió un error: {e}\")\n",
    "\n",
    "# Otras validaciones\n",
    "try:\n",
    "    sts_client = session.client('sts')\n",
    "    caller_identity = sts_client.get_caller_identity()\n",
    "    print(f\"Sesión activa para la cuenta: {caller_identity['Account']}, \\\n",
    "          usuario: {caller_identity['Arn']}\")\n",
    "except Exception as e:\n",
    "    print(f\"No se pudo obtener la identidad del llamador: {e}\")"
   ]
  },
  {
   "cell_type": "markdown",
   "metadata": {},
   "source": [
    "En el contexto de boto3 y AWS, no existe un concepto formal de \"cerrar sesión\" como lo harías con una sesión de usuario en una aplicación web. Una vez que has configurado una sesión y realizado las operaciones necesarias, simplemente puedes dejar de usar la sesión. No es necesario liberar recursos manualmente, ya que boto3 gestiona esto automáticamente."
   ]
  }
 ],
 "metadata": {
  "kernelspec": {
   "display_name": "Python 3",
   "language": "python",
   "name": "python3"
  },
  "language_info": {
   "codemirror_mode": {
    "name": "ipython",
    "version": 3
   },
   "file_extension": ".py",
   "mimetype": "text/x-python",
   "name": "python",
   "nbconvert_exporter": "python",
   "pygments_lexer": "ipython3",
   "version": "3.11.2"
  }
 },
 "nbformat": 4,
 "nbformat_minor": 2
}
