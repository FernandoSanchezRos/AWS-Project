{
 "cells": [
  {
   "cell_type": "markdown",
   "metadata": {},
   "source": [
    "# Gestión de Instancias EC2 con Python\n",
    "\n",
    "**Objetivos de la Práctica**\n",
    "\n",
    "1. Lanzar varias instancias EC2\n",
    "2. Listar y describir las instancias \n",
    "3. Detener y borrar las instancias"
   ]
  },
  {
   "cell_type": "code",
   "execution_count": 1,
   "metadata": {},
   "outputs": [],
   "source": [
    "import boto3\n",
    "import os"
   ]
  },
  {
   "cell_type": "code",
   "execution_count": 2,
   "metadata": {},
   "outputs": [],
   "source": [
    "session = boto3.Session(\n",
    "    aws_access_key_id = os.getenv('AWS_ACCESS_KEY_ID'),\n",
    "    aws_secret_access_key = os.getenv(\"AWS_SECRET_ACCESS_KEY\"),\n",
    "    region_name = 'us-east-1'\n",
    ")\n",
    "\n",
    "ec2_client = session.client('ec2')"
   ]
  },
  {
   "cell_type": "markdown",
   "metadata": {},
   "source": [
    "## 1. Lanzar Varias Instancias EC2"
   ]
  },
  {
   "cell_type": "code",
   "execution_count": 3,
   "metadata": {},
   "outputs": [],
   "source": [
    "# Ejecutar la solicitud para lanzar una instancia EC2\n",
    "response = ec2_client.run_instances(\n",
    "    ImageId = 'ami-08a0d1e16fc3f61ea',\n",
    "    InstanceType = 't2.micro',\n",
    "    MinCount = 1,\n",
    "    MaxCount = 1\n",
    ")"
   ]
  },
  {
   "cell_type": "code",
   "execution_count": 4,
   "metadata": {},
   "outputs": [
    {
     "name": "stdout",
     "output_type": "stream",
     "text": [
      "La instancia ha sido lanzada con ID: i-01642a030325a32b5\n"
     ]
    }
   ],
   "source": [
    "# Imprimir el ID de la instancia lanzada\n",
    "instance_id = response['Instances'][0]['InstanceId']\n",
    "print(f'La instancia ha sido lanzada con ID: {instance_id}')"
   ]
  },
  {
   "cell_type": "code",
   "execution_count": 5,
   "metadata": {},
   "outputs": [],
   "source": [
    "# Ejecutar la solicitud para lanzar una instancia EC2\n",
    "response2 = ec2_client.run_instances(\n",
    "    ImageId = 'ami-0eaf7c3456e7b5b68',\n",
    "    InstanceType = 't2.micro',\n",
    "    MinCount = 1,\n",
    "    MaxCount = 1\n",
    ")"
   ]
  },
  {
   "cell_type": "code",
   "execution_count": 6,
   "metadata": {},
   "outputs": [
    {
     "name": "stdout",
     "output_type": "stream",
     "text": [
      "La instancia ha sido lanzada con ID: i-06471e09a295bfff8\n"
     ]
    }
   ],
   "source": [
    "# Imprimir el ID de la instancia lanzada\n",
    "instance_id = response2['Instances'][0]['InstanceId']\n",
    "print(f'La instancia ha sido lanzada con ID: {instance_id}')"
   ]
  },
  {
   "cell_type": "markdown",
   "metadata": {},
   "source": [
    "### Anexo - Como Encontrar IDS de las AMIs\n",
    "\n",
    "Puedes encontrar los IDs de las AMIs (Amazon Machine Images) de varias maneras. Aquí te muestro algunos métodos comunes:\n",
    "\n",
    "1. **AWS Management Console**:\n",
    "   - Iniciar sesión en la consola de AWS: Ve a https://aws.amazon.com/ y haz clic en \"Sign In to the Console\" en la esquina superior derecha.\n",
    "   - Ir al servicio EC2: En el menú de servicios, selecciona EC2.\n",
    "   - Seleccionar \"AMIs\" en el menú de la izquierda: En la sección \"Images\", haz clic en \"AMIs\".\n",
    "   - Filtrar las AMIs: Puedes filtrar por propietario (como \"Owned by me\" o \"Public images\") y por otras características como el sistema operativo, la arquitectura y la región.\n",
    "   - Ver el ID de la AMI: El ID de la AMI se mostrará en la columna \"AMI ID\".\n",
    "\n",
    "2. **AWS CLI (Command Line Interface)**:\n",
    "\n",
    "Si tienes la AWS CLI instalada y configurada, puedes usar el siguiente comando para listar las AMIs disponibles:\n",
    "\n",
    "```sh\n",
    "aws ec2 describe-images --owners amazon --query 'Images[*].[ImageId,Name,Description]' --output table\n",
    "```\n",
    "\n",
    "Este comando muestra una lista de AMIs públicas propiedad de Amazon. Puedes ajustar los parámetros para buscar AMIs específicas.\n",
    "\n",
    "3. **Boto3 (Python)**\n",
    "\n",
    "```python\n",
    "import boto3\n",
    "\n",
    "# Crear una sesión de Boto3\n",
    "session = boto3.Session(\n",
    "    aws_access_key_id='YOUR_ACCESS_KEY',\n",
    "    aws_secret_access_key='YOUR_SECRET_KEY',\n",
    "    region_name='us-west-2'  # Cambia esto según tu región\n",
    ")\n",
    "\n",
    "# Crear un cliente EC2\n",
    "ec2_client = session.client('ec2')\n",
    "\n",
    "# Describir las imágenes\n",
    "response = ec2_client.describe_images(Owners=['amazon'])\n",
    "\n",
    "# Imprimir los IDs y nombres de las AMIs\n",
    "for image in response['Images']:\n",
    "    print(f\"AMI ID: {image['ImageId']}, Name: {image['Name']}, Description: {image.get('Description', 'No description')}\")\n",
    "```\n",
    "\n",
    "**Notas Importantes**\n",
    "\n",
    "   - Región: Asegúrate de que la AMI que seleccionas esté disponible en la región en la que planeas lanzar la instancia.\n",
    "   - Propósito: Elige una AMI que cumpla con tus requisitos específicos, como el sistema operativo, las aplicaciones preinstaladas, etc.\n",
    "   - Propietario: Verifica si la AMI es pública, privada, o proporcionada por AWS Marketplace."
   ]
  },
  {
   "cell_type": "markdown",
   "metadata": {},
   "source": [
    "## 2. Listar y Describir las Instancias"
   ]
  },
  {
   "cell_type": "code",
   "execution_count": 7,
   "metadata": {},
   "outputs": [
    {
     "name": "stdout",
     "output_type": "stream",
     "text": [
      "ID de la instancia: i-01642a030325a32b5\n",
      "Estado de la instancia: running\n",
      "Tipo de instancia: t2.micro\n",
      "Zona de disponibilidad: us-east-1a\n",
      "AMI ID: ami-08a0d1e16fc3f61ea\n",
      "---\n",
      "ID de la instancia: i-06471e09a295bfff8\n",
      "Estado de la instancia: running\n",
      "Tipo de instancia: t2.micro\n",
      "Zona de disponibilidad: us-east-1a\n",
      "AMI ID: ami-0eaf7c3456e7b5b68\n",
      "---\n"
     ]
    }
   ],
   "source": [
    "# Describir las instancias\n",
    "response = ec2_client.describe_instances()\n",
    "\n",
    "# Iterar sobre las reservas y las instancias\n",
    "for reservation in response['Reservations']:\n",
    "    for instance in reservation['Instances']:\n",
    "        print(f'ID de la instancia: {instance[\"InstanceId\"]}')\n",
    "        print(f'Estado de la instancia: {instance[\"State\"][\"Name\"]}')\n",
    "        print(f'Tipo de instancia: {instance[\"InstanceType\"]}')\n",
    "        print(f'Zona de disponibilidad: {instance[\"Placement\"][\"AvailabilityZone\"]}')\n",
    "        print(f'AMI ID: {instance[\"ImageId\"]}')\n",
    "        print('---')"
   ]
  },
  {
   "cell_type": "markdown",
   "metadata": {},
   "source": [
    "## 3. Detener y Borrar las Instancias"
   ]
  },
  {
   "cell_type": "code",
   "execution_count": 9,
   "metadata": {},
   "outputs": [
    {
     "name": "stdout",
     "output_type": "stream",
     "text": [
      "La instancia i-06471e09a295bfff8 se está deteniendo.\n"
     ]
    }
   ],
   "source": [
    "# Detener una instancia\n",
    "response = ec2_client.stop_instances(\n",
    "    InstanceIds=[\n",
    "        'i-01642a030325a32b5',\n",
    "    ]\n",
    ")\n",
    "\n",
    "print(f'La instancia {instance_id} se está deteniendo.')"
   ]
  },
  {
   "cell_type": "markdown",
   "metadata": {},
   "source": [
    "Volvemos a listar y describir las instancias para comprobar los cambios"
   ]
  },
  {
   "cell_type": "code",
   "execution_count": 10,
   "metadata": {},
   "outputs": [
    {
     "name": "stdout",
     "output_type": "stream",
     "text": [
      "ID de la instancia: i-01642a030325a32b5\n",
      "Estado de la instancia: stopped\n",
      "Tipo de instancia: t2.micro\n",
      "Zona de disponibilidad: us-east-1a\n",
      "AMI ID: ami-08a0d1e16fc3f61ea\n",
      "---\n",
      "ID de la instancia: i-06471e09a295bfff8\n",
      "Estado de la instancia: running\n",
      "Tipo de instancia: t2.micro\n",
      "Zona de disponibilidad: us-east-1a\n",
      "AMI ID: ami-0eaf7c3456e7b5b68\n",
      "---\n"
     ]
    }
   ],
   "source": [
    "# Describir las instancias\n",
    "response = ec2_client.describe_instances()\n",
    "\n",
    "# Iterar sobre las reservas y las instancias\n",
    "for reservation in response['Reservations']:\n",
    "    for instance in reservation['Instances']:\n",
    "        print(f'ID de la instancia: {instance[\"InstanceId\"]}')\n",
    "        print(f'Estado de la instancia: {instance[\"State\"][\"Name\"]}')\n",
    "        print(f'Tipo de instancia: {instance[\"InstanceType\"]}')\n",
    "        print(f'Zona de disponibilidad: {instance[\"Placement\"][\"AvailabilityZone\"]}')\n",
    "        print(f'AMI ID: {instance[\"ImageId\"]}')\n",
    "        print('---')"
   ]
  },
  {
   "cell_type": "markdown",
   "metadata": {},
   "source": [
    "Volvemos a ponerla en marcha"
   ]
  },
  {
   "cell_type": "code",
   "execution_count": 11,
   "metadata": {},
   "outputs": [],
   "source": [
    "# Ejecutar una instancia\n",
    "response = ec2_client.start_instances(\n",
    "    InstanceIds = [\n",
    "        \"i-01642a030325a32b5\"\n",
    "    ]\n",
    ")"
   ]
  },
  {
   "cell_type": "code",
   "execution_count": 12,
   "metadata": {},
   "outputs": [
    {
     "name": "stdout",
     "output_type": "stream",
     "text": [
      "ID de la instancia: i-01642a030325a32b5\n",
      "Estado de la instancia: running\n",
      "Tipo de instancia: t2.micro\n",
      "Zona de disponibilidad: us-east-1a\n",
      "AMI ID: ami-08a0d1e16fc3f61ea\n",
      "---\n",
      "ID de la instancia: i-06471e09a295bfff8\n",
      "Estado de la instancia: running\n",
      "Tipo de instancia: t2.micro\n",
      "Zona de disponibilidad: us-east-1a\n",
      "AMI ID: ami-0eaf7c3456e7b5b68\n",
      "---\n"
     ]
    }
   ],
   "source": [
    "# Describir las instancias\n",
    "response = ec2_client.describe_instances()\n",
    "\n",
    "# Iterar sobre las reservas y las instancias\n",
    "for reservation in response['Reservations']:\n",
    "    for instance in reservation['Instances']:\n",
    "        print(f'ID de la instancia: {instance[\"InstanceId\"]}')\n",
    "        print(f'Estado de la instancia: {instance[\"State\"][\"Name\"]}')\n",
    "        print(f'Tipo de instancia: {instance[\"InstanceType\"]}')\n",
    "        print(f'Zona de disponibilidad: {instance[\"Placement\"][\"AvailabilityZone\"]}')\n",
    "        print(f'AMI ID: {instance[\"ImageId\"]}')\n",
    "        print('---')"
   ]
  },
  {
   "cell_type": "code",
   "execution_count": 13,
   "metadata": {},
   "outputs": [
    {
     "name": "stdout",
     "output_type": "stream",
     "text": [
      "Las siguientes instancias se están deteniendo: ['i-01642a030325a32b5', 'i-06471e09a295bfff8']\n"
     ]
    }
   ],
   "source": [
    "# Paramos todas las instancias \n",
    "# Crear una lista para almacenar los IDs de las instancias\n",
    "instance_ids = []\n",
    "\n",
    "# Iterar sobre las reservas y las instancias para recopilar los IDs de las instancias\n",
    "for reservation in response['Reservations']:\n",
    "    for instance in reservation['Instances']:\n",
    "        instance_ids.append(instance['InstanceId'])\n",
    "\n",
    "# Detener todas las instancias recopiladas\n",
    "if instance_ids:\n",
    "    response = ec2_client.stop_instances(\n",
    "        InstanceIds=instance_ids\n",
    "    )\n",
    "\n",
    "    print(f'Las siguientes instancias se están deteniendo: {instance_ids}')\n",
    "else:\n",
    "    print('No se encontraron instancias para detener.')"
   ]
  },
  {
   "cell_type": "code",
   "execution_count": 14,
   "metadata": {},
   "outputs": [
    {
     "name": "stdout",
     "output_type": "stream",
     "text": [
      "Las siguientes instancias detenidas están siendo terminadas: ['i-01642a030325a32b5', 'i-06471e09a295bfff8']\n"
     ]
    }
   ],
   "source": [
    "# Borramos todas las instancias\n",
    "\n",
    "# Describir las instancias\n",
    "response = ec2_client.describe_instances()\n",
    "\n",
    "# Crear una lista para almacenar los IDs de las instancias detenidas\n",
    "stopped_instance_ids = []\n",
    "\n",
    "# Iterar sobre las reservas y las instancias\n",
    "for reservation in response['Reservations']:\n",
    "    for instance in reservation['Instances']:\n",
    "        if instance['State']['Name'] == 'stopped':\n",
    "            stopped_instance_ids.append(instance['InstanceId'])\n",
    "\n",
    "# Terminar todas las instancias detenidas\n",
    "if stopped_instance_ids:\n",
    "    response = ec2_client.terminate_instances(\n",
    "        InstanceIds=stopped_instance_ids\n",
    "    )\n",
    "    print(f'Las siguientes instancias detenidas están siendo terminadas: {stopped_instance_ids}')\n",
    "else:\n",
    "    print('No se encontraron instancias detenidas para terminar.')"
   ]
  }
 ],
 "metadata": {
  "kernelspec": {
   "display_name": "Python 3",
   "language": "python",
   "name": "python3"
  },
  "language_info": {
   "codemirror_mode": {
    "name": "ipython",
    "version": 3
   },
   "file_extension": ".py",
   "mimetype": "text/x-python",
   "name": "python",
   "nbconvert_exporter": "python",
   "pygments_lexer": "ipython3",
   "version": "3.11.2"
  }
 },
 "nbformat": 4,
 "nbformat_minor": 2
}
